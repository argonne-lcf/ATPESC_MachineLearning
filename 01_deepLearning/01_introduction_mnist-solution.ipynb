{
 "cells": [
  {
   "cell_type": "markdown",
   "metadata": {},
   "source": [
    "# Solution to exercise\n",
    "\n"
   ]
  },
  {
   "cell_type": "markdown",
   "metadata": {},
   "source": []
  },
  {
   "cell_type": "code",
   "execution_count": 1,
   "metadata": {},
   "outputs": [],
   "source": [
    "%matplotlib inline\n",
    "\n",
    "import tensorflow as tf\n",
    "\n",
    "import numpy \n",
    "import matplotlib.pyplot as plt\n",
    "import time"
   ]
  },
  {
   "cell_type": "markdown",
   "metadata": {},
   "source": [
    "## The MNIST dataset\n",
    "\n",
    "We will now download the dataset that contains handwritten digits. \n",
    "\n",
    "Note that downloading it the first time might take some time.\n",
    "The data is split as follows:\n",
    "- The training data x_train of size $(60000, 28, 28)$  and the corresponding classes ($\"0\", \"1\", ... \"9\"$) in y_train which is a $60000$ dimensional vector,\n",
    "- The test data x_test of size $(10000, 28*28)$  and the corresponding classes in y_test which is a $10000$ dimensional vector"
   ]
  },
  {
   "cell_type": "code",
   "execution_count": 2,
   "metadata": {},
   "outputs": [],
   "source": [
    "(x_train, y_train), (x_test, y_test) = tf.keras.datasets.mnist.load_data()"
   ]
  },
  {
   "cell_type": "code",
   "execution_count": 3,
   "metadata": {},
   "outputs": [
    {
     "name": "stdout",
     "output_type": "stream",
     "text": [
      "\n",
      "MNIST data loaded: train: 60000 test: 10000\n",
      "X_train: (60000, 28, 28)\n",
      "y_train: (60000,)\n",
      "X_test: (10000, 28, 28)\n",
      "Y_test: (10000,)\n"
     ]
    }
   ],
   "source": [
    "\n",
    "x_train = x_train.astype(numpy.float32)\n",
    "x_test  = x_test.astype(numpy.float32)\n",
    "\n",
    "x_train /= 255.\n",
    "x_test  /= 255.\n",
    "\n",
    "y_train = y_train.astype(numpy.int32)\n",
    "y_test  = y_test.astype(numpy.int32)\n",
    "\n",
    "print()\n",
    "print('MNIST data loaded: train:',len(x_train),'test:',len(x_test))\n",
    "print('X_train:', x_train.shape)\n",
    "print('y_train:', y_train.shape)\n",
    "print('X_test:', x_test.shape)\n",
    "print('Y_test:', y_test.shape)"
   ]
  },
  {
   "cell_type": "code",
   "execution_count": 4,
   "metadata": {},
   "outputs": [
    {
     "name": "stdout",
     "output_type": "stream",
     "text": [
      "(60000, 28, 28)\n",
      "(10000, 28, 28)\n"
     ]
    }
   ],
   "source": [
    "print(x_train.shape)\n",
    "print(x_test.shape)"
   ]
  },
  {
   "cell_type": "code",
   "execution_count": null,
   "metadata": {},
   "outputs": [],
   "source": []
  },
  {
   "cell_type": "code",
   "execution_count": 5,
   "metadata": {},
   "outputs": [
    {
     "name": "stdout",
     "output_type": "stream",
     "text": [
      "(60000, 28, 28)\n",
      "(10000, 28, 28)\n",
      "\n",
      "MNIST data loaded: train: 60000 test: 10000\n",
      "X_train: (60000, 28, 28)\n",
      "y_train: (60000,)\n"
     ]
    }
   ],
   "source": [
    "# x_train = x_train.reshape(x_train.shape[0], numpy.prod(x_train[0,:,:].shape))\n",
    "# x_test = x_test.reshape(x_test.shape[0], numpy.prod(x_test[0,:,:].shape))\n",
    "\n",
    "print(x_train.shape)\n",
    "print(x_test.shape)\n",
    "\n",
    "y_train = y_train.astype(numpy.int32)\n",
    "y_test  = y_test.astype(numpy.int32)\n",
    "\n",
    "print()\n",
    "print('MNIST data loaded: train:',len(x_train),'test:',len(x_test))\n",
    "print('X_train:', x_train.shape)\n",
    "print('y_train:', y_train.shape)"
   ]
  },
  {
   "cell_type": "markdown",
   "metadata": {},
   "source": [
    "Let's take a closer look. Here are the first 10 training digits:"
   ]
  },
  {
   "cell_type": "markdown",
   "metadata": {},
   "source": [
    "Let's define a helper function to show the failure cases of our classifier."
   ]
  },
  {
   "cell_type": "code",
   "execution_count": 6,
   "metadata": {},
   "outputs": [],
   "source": [
    "def show_failures(predictions, trueclass=None, predictedclass=None, maxtoshow=10):\n",
    "    rounded = numpy.argmax(predictions, axis=1)\n",
    "    errors = rounded!=y_test\n",
    "    print('Showing max', maxtoshow, 'first failures. '\n",
    "          'The predicted class is shown first and the correct class in parenthesis.')\n",
    "    ii = 0\n",
    "    plt.figure(figsize=(maxtoshow, 1))\n",
    "    for i in range(x_test.shape[0]):\n",
    "        if ii>=maxtoshow:\n",
    "            break\n",
    "        if errors[i]:\n",
    "            if trueclass is not None and y_test[i] != trueclass:\n",
    "                continue\n",
    "            if predictedclass is not None and rounded[i] != predictedclass:\n",
    "                continue\n",
    "            plt.subplot(1, maxtoshow, ii+1)\n",
    "            plt.axis('off')\n",
    "            plt.imshow(x_test[i,:,:], cmap=\"gray\")\n",
    "            plt.title(\"%d (%d)\" % (rounded[i], y_test[i]))\n",
    "            ii = ii + 1"
   ]
  },
  {
   "cell_type": "markdown",
   "metadata": {},
   "source": [
    "\n"
   ]
  },
  {
   "cell_type": "markdown",
   "metadata": {},
   "source": [
    "We can now implement a deep network in Keras. Dropout() performs the dropout operation mentioned earlier"
   ]
  },
  {
   "cell_type": "code",
   "execution_count": 7,
   "metadata": {},
   "outputs": [],
   "source": [
    "class NonlinearClassifier(tf.keras.models.Model):\n",
    "\n",
    "    def __init__(self, activation=tf.nn.tanh):\n",
    "        tf.keras.models.Model.__init__(self)\n",
    "\n",
    "        self.layer_1 = tf.keras.layers.Dense(50, activation='relu')\n",
    "        \n",
    "        self.layer_2 = tf.keras.layers.Dense(50, activation='relu')\n",
    "        self.drop_3 = tf.keras.layers.Dropout(0.2)\n",
    "        self.layer_4 = tf.keras.layers.Dense(50, activation='relu')\n",
    "        self.drop_5 = tf.keras.layers.Dropout(0.2)\n",
    "        \n",
    "        # The last layer needs to be like this:\n",
    "        self.layer_out = tf.keras.layers.Dense(10, activation='softmax')\n",
    "\n",
    "\n",
    "    def call(self, inputs):\n",
    "\n",
    "        x = tf.keras.layers.Flatten()(inputs)\n",
    "        x = self.layer_1(x)\n",
    "        \n",
    "        # The more complex version:\n",
    "        x = self.layer_2(x)\n",
    "        x = self.drop_3(x)\n",
    "        x = self.layer_4(x)\n",
    "        x = self.drop_5(x)\n",
    "        \n",
    "        x = self.layer_out(x)\n",
    "\n",
    "        return x"
   ]
  },
  {
   "cell_type": "code",
   "execution_count": 8,
   "metadata": {},
   "outputs": [
    {
     "name": "stderr",
     "output_type": "stream",
     "text": [
      "2023-08-09 13:12:27.359603: I tensorflow/compiler/jit/xla_cpu_device.cc:41] Not creating XLA devices, tf_xla_enable_xla_devices not set\n",
      "2023-08-09 13:12:27.359815: I tensorflow/core/platform/cpu_feature_guard.cc:142] This TensorFlow binary is optimized with oneAPI Deep Neural Network Library (oneDNN) to use the following CPU instructions in performance-critical operations:  AVX2 FMA\n",
      "To enable them in other operations, rebuild TensorFlow with the appropriate compiler flags.\n"
     ]
    }
   ],
   "source": [
    "nonlinear_model = NonlinearClassifier()\n",
    "\n",
    "nonlinear_model.compile(loss=\"sparse_categorical_crossentropy\", optimizer=\"rmsprop\", metrics=['accuracy'])"
   ]
  },
  {
   "cell_type": "markdown",
   "metadata": {},
   "source": [
    "# Learning"
   ]
  },
  {
   "cell_type": "code",
   "execution_count": 9,
   "metadata": {},
   "outputs": [
    {
     "name": "stdout",
     "output_type": "stream",
     "text": [
      "Epoch 1/30\n"
     ]
    },
    {
     "name": "stderr",
     "output_type": "stream",
     "text": [
      "2023-08-09 13:12:27.479042: I tensorflow/compiler/mlir/mlir_graph_optimization_pass.cc:116] None of the MLIR optimization passes are enabled (registered 2)\n"
     ]
    },
    {
     "name": "stdout",
     "output_type": "stream",
     "text": [
      "118/118 - 1s - loss: 0.8687 - accuracy: 0.7297\n",
      "Epoch 2/30\n",
      "118/118 - 0s - loss: 0.3892 - accuracy: 0.8875\n",
      "Epoch 3/30\n",
      "118/118 - 0s - loss: 0.2927 - accuracy: 0.9157\n",
      "Epoch 4/30\n",
      "118/118 - 0s - loss: 0.2371 - accuracy: 0.9334\n",
      "Epoch 5/30\n",
      "118/118 - 0s - loss: 0.2009 - accuracy: 0.9436\n",
      "Epoch 6/30\n",
      "118/118 - 0s - loss: 0.1784 - accuracy: 0.9485\n",
      "Epoch 7/30\n",
      "118/118 - 0s - loss: 0.1600 - accuracy: 0.9538\n",
      "Epoch 8/30\n",
      "118/118 - 0s - loss: 0.1425 - accuracy: 0.9591\n",
      "Epoch 9/30\n",
      "118/118 - 0s - loss: 0.1310 - accuracy: 0.9626\n",
      "Epoch 10/30\n",
      "118/118 - 0s - loss: 0.1223 - accuracy: 0.9650\n",
      "Epoch 11/30\n",
      "118/118 - 0s - loss: 0.1123 - accuracy: 0.9675\n",
      "Epoch 12/30\n",
      "118/118 - 0s - loss: 0.1059 - accuracy: 0.9690\n",
      "Epoch 13/30\n",
      "118/118 - 0s - loss: 0.0994 - accuracy: 0.9711\n",
      "Epoch 14/30\n",
      "118/118 - 0s - loss: 0.0936 - accuracy: 0.9725\n",
      "Epoch 15/30\n",
      "118/118 - 0s - loss: 0.0881 - accuracy: 0.9737\n",
      "Epoch 16/30\n",
      "118/118 - 0s - loss: 0.0841 - accuracy: 0.9756\n",
      "Epoch 17/30\n",
      "118/118 - 0s - loss: 0.0794 - accuracy: 0.9767\n",
      "Epoch 18/30\n",
      "118/118 - 0s - loss: 0.0751 - accuracy: 0.9780\n",
      "Epoch 19/30\n",
      "118/118 - 0s - loss: 0.0733 - accuracy: 0.9782\n",
      "Epoch 20/30\n",
      "118/118 - 0s - loss: 0.0690 - accuracy: 0.9785\n",
      "Epoch 21/30\n",
      "118/118 - 0s - loss: 0.0671 - accuracy: 0.9796\n",
      "Epoch 22/30\n",
      "118/118 - 0s - loss: 0.0623 - accuracy: 0.9808\n",
      "Epoch 23/30\n",
      "118/118 - 0s - loss: 0.0610 - accuracy: 0.9811\n",
      "Epoch 24/30\n",
      "118/118 - 0s - loss: 0.0590 - accuracy: 0.9822\n",
      "Epoch 25/30\n",
      "118/118 - 0s - loss: 0.0577 - accuracy: 0.9831\n",
      "Epoch 26/30\n",
      "118/118 - 0s - loss: 0.0564 - accuracy: 0.9822\n",
      "Epoch 27/30\n",
      "118/118 - 0s - loss: 0.0522 - accuracy: 0.9833\n",
      "Epoch 28/30\n",
      "118/118 - 0s - loss: 0.0502 - accuracy: 0.9840\n",
      "Epoch 29/30\n",
      "118/118 - 0s - loss: 0.0484 - accuracy: 0.9844\n",
      "Epoch 30/30\n",
      "118/118 - 0s - loss: 0.0458 - accuracy: 0.9854\n",
      "CPU times: user 30.5 s, sys: 8.55 s, total: 39.1 s\n",
      "Wall time: 10.9 s\n"
     ]
    }
   ],
   "source": [
    "%%time\n",
    "# This took about a third of a second per epoch on my laptop\n",
    "epochs = 30\n",
    "batch_size = 512 \n",
    "\n",
    "history = nonlinear_model.fit(x_train, y_train, batch_size=batch_size, epochs=epochs, verbose=2)"
   ]
  },
  {
   "cell_type": "code",
   "execution_count": 10,
   "metadata": {},
   "outputs": [
    {
     "name": "stdout",
     "output_type": "stream",
     "text": [
      "Model: \"nonlinear_classifier\"\n",
      "_________________________________________________________________\n",
      "Layer (type)                 Output Shape              Param #   \n",
      "=================================================================\n",
      "dense (Dense)                multiple                  39250     \n",
      "_________________________________________________________________\n",
      "dense_1 (Dense)              multiple                  2550      \n",
      "_________________________________________________________________\n",
      "dropout (Dropout)            multiple                  0         \n",
      "_________________________________________________________________\n",
      "dense_2 (Dense)              multiple                  2550      \n",
      "_________________________________________________________________\n",
      "dropout_1 (Dropout)          multiple                  0         \n",
      "_________________________________________________________________\n",
      "dense_3 (Dense)              multiple                  510       \n",
      "=================================================================\n",
      "Total params: 44,860\n",
      "Trainable params: 44,860\n",
      "Non-trainable params: 0\n",
      "_________________________________________________________________\n",
      "None\n"
     ]
    }
   ],
   "source": [
    "print(nonlinear_model.summary())"
   ]
  },
  {
   "cell_type": "code",
   "execution_count": 11,
   "metadata": {},
   "outputs": [
    {
     "data": {
      "image/png": "[encoded data removed]",
      "text/plain": [
       "<Figure size 360x216 with 1 Axes>"
      ]
     },
     "metadata": {
      "needs_background": "light"
     },
     "output_type": "display_data"
    },
    {
     "data": {
      "image/png": "[encoded data removed]",
      "text/plain": [
       "<Figure size 360x216 with 1 Axes>"
      ]
     },
     "metadata": {
      "needs_background": "light"
     },
     "output_type": "display_data"
    }
   ],
   "source": [
    "plt.figure(figsize=(5,3))\n",
    "plt.plot(history.epoch,history.history['loss'])\n",
    "plt.title('loss')\n",
    "\n",
    "plt.figure(figsize=(5,3))\n",
    "plt.plot(history.epoch,history.history['accuracy'])\n",
    "plt.title('accuracy');"
   ]
  },
  {
   "cell_type": "code",
   "execution_count": 12,
   "metadata": {},
   "outputs": [
    {
     "name": "stdout",
     "output_type": "stream",
     "text": [
      "313/313 - 0s - loss: 0.1178 - accuracy: 0.9709\n",
      "accuracy: 97.09%\n"
     ]
    }
   ],
   "source": [
    "nonlinscores = nonlinear_model.evaluate(x_test, y_test, verbose=2)\n",
    "print(\"%s: %.2f%%\" % (nonlinear_model.metrics_names[1], nonlinscores[1]*100))"
   ]
  },
  {
   "cell_type": "code",
   "execution_count": 13,
   "metadata": {},
   "outputs": [
    {
     "name": "stdout",
     "output_type": "stream",
     "text": [
      "Showing max 10 first failures. The predicted class is shown first and the correct class in parenthesis.\n"
     ]
    },
    {
     "data": {
      "image/png": "[encoded data removed]",
      "text/plain": [
       "<Figure size 720x72 with 10 Axes>"
      ]
     },
     "metadata": {
      "needs_background": "light"
     },
     "output_type": "display_data"
    }
   ],
   "source": [
    "nonlinpredictions = nonlinear_model.predict(x_test)\n",
    "\n",
    "show_failures(nonlinpredictions)"
   ]
  },
  {
   "cell_type": "code",
   "execution_count": null,
   "metadata": {},
   "outputs": [],
   "source": []
  }
 ],
 "metadata": {
  "kernelspec": {
   "display_name": "Python 3 (ipykernel)",
   "language": "python",
   "name": "python3"
  },
  "language_info": {
   "codemirror_mode": {
    "name": "ipython",
    "version": 3
   },
   "file_extension": ".py",
   "mimetype": "text/x-python",
   "name": "python",
   "nbconvert_exporter": "python",
   "pygments_lexer": "ipython3",
   "version": "3.7.4"
  }
 },
 "nbformat": 4,
 "nbformat_minor": 2
}
