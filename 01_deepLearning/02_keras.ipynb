{
 "cells": [
  {
   "cell_type": "markdown",
   "metadata": {},
   "source": [
    "# MNIST handwritten digits classification with MLPs\n",
    "\n",
    "Author: Bethany Lusch, adapting codes from Prasanna Balprakash, Corey Adams, and Kyle Felker\n",
    "\n",
    "In this notebook, we'll continue the MNIST problem but using the Keras API (as included in the TensorFlow library)\n",
    "\n",
    "First, the needed imports."
   ]
  },
  {
   "cell_type": "code",
   "execution_count": 1,
   "metadata": {},
   "outputs": [],
   "source": [
    "%matplotlib inline\n",
    "\n",
    "import tensorflow as tf\n",
    "\n",
    "import numpy\n",
    "import matplotlib.pyplot as plt\n",
    "import time"
   ]
  },
  {
   "cell_type": "markdown",
   "metadata": {},
   "source": [
    "## MNIST data set\n",
    "\n",
    "Again we'll load the MNIST handwritten digits data set.  If you haven't downloaded it already, it could take a while.\n"
   ]
  },
  {
   "cell_type": "code",
   "execution_count": 2,
   "metadata": {},
   "outputs": [
    {
     "name": "stdout",
     "output_type": "stream",
     "text": [
      "\n",
      "MNIST data loaded: train: 60000 test: 10000\n",
      "X_train: (60000, 28, 28)\n",
      "y_train: (60000,)\n"
     ]
    }
   ],
   "source": [
    "(x_train, y_train), (x_test, y_test) = tf.keras.datasets.mnist.load_data()\n",
    "x_train = x_train.astype(numpy.float32)\n",
    "x_test  = x_test.astype(numpy.float32)\n",
    "\n",
    "x_train /= 255.\n",
    "x_test  /= 255.\n",
    "\n",
    "y_train = y_train.astype(numpy.int32)\n",
    "y_test  = y_test.astype(numpy.int32)\n",
    "\n",
    "print()\n",
    "print('MNIST data loaded: train:',len(x_train),'test:',len(x_test))\n",
    "print('X_train:', x_train.shape)\n",
    "print('y_train:', y_train.shape)"
   ]
  },
  {
   "cell_type": "markdown",
   "metadata": {},
   "source": [
    "This time we won't flatten the images upfront. \n",
    "\n",
    "The training data (`X_train`) is a 3rd-order tensor of size (60000, 28, 28), i.e. it consists of 60000 images of size 28x28 pixels. \n",
    "\n",
    "`y_train` is a 60000-dimensional vector containing the correct classes (\"0\", \"1\", ..., \"9\") for each training sample."
   ]
  },
  {
   "cell_type": "markdown",
   "metadata": {},
   "source": [
    "## Linear model\n",
    "\n",
    "### Initialization\n",
    "\n",
    "Let's begin with a simple linear model, but with the Keras library. First we use a `Flatten` layer to convert image data into vectors. \n",
    "\n",
    "A `Dense()` layer is a basic layer: $xW + b$ with an optional nonlinearity applied (\"activation function\"). The `Dense` layer connects each input to each output with some weight parameter. They are also called \"fully connected.\"\n",
    "\n",
    "Here we add a `Dense` layer that has 28*28=784 input nodes (one for each pixel in the input image) and 10 output nodes. "
   ]
  },
  {
   "cell_type": "code",
   "execution_count": 3,
   "metadata": {},
   "outputs": [],
   "source": [
    "class LinearClassifier(tf.keras.models.Model):\n",
    "\n",
    "    def __init__(self, activation=tf.nn.tanh):\n",
    "        tf.keras.models.Model.__init__(self)\n",
    "\n",
    "        self.layer_1 = tf.keras.layers.Dense(10, activation='softmax')\n",
    "\n",
    "\n",
    "    def call(self, inputs):\n",
    "\n",
    "        x = tf.keras.layers.Flatten()(inputs)\n",
    "        x = self.layer_1(x)\n",
    "\n",
    "        return x"
   ]
  },
  {
   "cell_type": "markdown",
   "metadata": {},
   "source": [
    "We select *sparse categorical crossentropy* as the loss function, select [*stochastic gradient descent*](https://keras.io/optimizers/#sgd) as the optimizer, add *accuracy* to the list of metrics to be evaluated, and `compile()` the model. Note there are [several different options](https://keras.io/optimizers/) for the optimizer in Keras that we could use instead of *sgd*."
   ]
  },
  {
   "cell_type": "code",
   "execution_count": 4,
   "metadata": {},
   "outputs": [],
   "source": [
    "linear_model = LinearClassifier()\n",
    "\n",
    "linear_model.compile(loss=\"sparse_categorical_crossentropy\", optimizer=\"sgd\", metrics=['accuracy'])"
   ]
  },
  {
   "cell_type": "markdown",
   "metadata": {},
   "source": [
    "### Learning"
   ]
  },
  {
   "cell_type": "markdown",
   "metadata": {},
   "source": [
    "Now we are ready to train our first model. An epoch means one pass through the whole training data."
   ]
  },
  {
   "cell_type": "markdown",
   "metadata": {},
   "source": [
    "Here is a concise way to train the network. The fit function handles looping over the batches. We'll see a more verbose approach in the next notebook that allows more performance tuning."
   ]
  },
  {
   "cell_type": "markdown",
   "metadata": {},
   "source": [
    "You can run the code below multiple times and it will continue the training process from where it left off. If you want to start from scratch, re-initialize the model using the code a few cells ago."
   ]
  },
  {
   "cell_type": "code",
   "execution_count": 5,
   "metadata": {
    "scrolled": true
   },
   "outputs": [
    {
     "name": "stdout",
     "output_type": "stream",
     "text": [
      "Epoch 1/30\n",
      "WARNING:tensorflow:AutoGraph could not transform <function Model.make_train_function.<locals>.train_function at 0x7fc47df22620> and will run it as-is.\n",
      "Please report this to the TensorFlow team. When filing the bug, set the verbosity to 10 (on Linux, `export AUTOGRAPH_VERBOSITY=10`) and attach the full output.\n",
      "Cause: 'arguments' object has no attribute 'posonlyargs'\n",
      "To silence this warning, decorate the function with @tf.autograph.experimental.do_not_convert\n",
      "WARNING: AutoGraph could not transform <function Model.make_train_function.<locals>.train_function at 0x7fc47df22620> and will run it as-is.\n",
      "Please report this to the TensorFlow team. When filing the bug, set the verbosity to 10 (on Linux, `export AUTOGRAPH_VERBOSITY=10`) and attach the full output.\n",
      "Cause: 'arguments' object has no attribute 'posonlyargs'\n",
      "To silence this warning, decorate the function with @tf.autograph.experimental.do_not_convert\n",
      "WARNING:tensorflow:AutoGraph could not transform <bound method LinearClassifier.call of <__main__.LinearClassifier object at 0x7fc47de77160>> and will run it as-is.\n",
      "Please report this to the TensorFlow team. When filing the bug, set the verbosity to 10 (on Linux, `export AUTOGRAPH_VERBOSITY=10`) and attach the full output.\n",
      "Cause: 'arguments' object has no attribute 'posonlyargs'\n",
      "To silence this warning, decorate the function with @tf.autograph.experimental.do_not_convert\n",
      "WARNING: AutoGraph could not transform <bound method LinearClassifier.call of <__main__.LinearClassifier object at 0x7fc47de77160>> and will run it as-is.\n",
      "Please report this to the TensorFlow team. When filing the bug, set the verbosity to 10 (on Linux, `export AUTOGRAPH_VERBOSITY=10`) and attach the full output.\n",
      "Cause: 'arguments' object has no attribute 'posonlyargs'\n",
      "To silence this warning, decorate the function with @tf.autograph.experimental.do_not_convert\n",
      "118/118 - 0s - loss: 1.8701 - accuracy: 0.4671 - 377ms/epoch - 3ms/step\n",
      "Epoch 2/30\n",
      "118/118 - 0s - loss: 1.2994 - accuracy: 0.7387 - 156ms/epoch - 1ms/step\n",
      "Epoch 3/30\n",
      "118/118 - 0s - loss: 1.0333 - accuracy: 0.7914 - 159ms/epoch - 1ms/step\n",
      "Epoch 4/30\n",
      "118/118 - 0s - loss: 0.8869 - accuracy: 0.8150 - 157ms/epoch - 1ms/step\n",
      "Epoch 5/30\n",
      "118/118 - 0s - loss: 0.7944 - accuracy: 0.8281 - 160ms/epoch - 1ms/step\n",
      "Epoch 6/30\n",
      "118/118 - 0s - loss: 0.7303 - accuracy: 0.8387 - 168ms/epoch - 1ms/step\n",
      "Epoch 7/30\n",
      "118/118 - 0s - loss: 0.6829 - accuracy: 0.8456 - 162ms/epoch - 1ms/step\n",
      "Epoch 8/30\n",
      "118/118 - 0s - loss: 0.6464 - accuracy: 0.8516 - 163ms/epoch - 1ms/step\n",
      "Epoch 9/30\n",
      "118/118 - 0s - loss: 0.6172 - accuracy: 0.8563 - 161ms/epoch - 1ms/step\n",
      "Epoch 10/30\n",
      "118/118 - 0s - loss: 0.5933 - accuracy: 0.8591 - 162ms/epoch - 1ms/step\n",
      "Epoch 11/30\n",
      "118/118 - 0s - loss: 0.5732 - accuracy: 0.8624 - 161ms/epoch - 1ms/step\n",
      "Epoch 12/30\n",
      "118/118 - 0s - loss: 0.5562 - accuracy: 0.8647 - 158ms/epoch - 1ms/step\n",
      "Epoch 13/30\n",
      "118/118 - 0s - loss: 0.5414 - accuracy: 0.8670 - 169ms/epoch - 1ms/step\n",
      "Epoch 14/30\n",
      "118/118 - 0s - loss: 0.5284 - accuracy: 0.8692 - 163ms/epoch - 1ms/step\n",
      "Epoch 15/30\n",
      "118/118 - 0s - loss: 0.5170 - accuracy: 0.8705 - 162ms/epoch - 1ms/step\n",
      "Epoch 16/30\n",
      "118/118 - 0s - loss: 0.5068 - accuracy: 0.8720 - 169ms/epoch - 1ms/step\n",
      "Epoch 17/30\n",
      "118/118 - 0s - loss: 0.4977 - accuracy: 0.8733 - 168ms/epoch - 1ms/step\n",
      "Epoch 18/30\n",
      "118/118 - 0s - loss: 0.4894 - accuracy: 0.8749 - 165ms/epoch - 1ms/step\n",
      "Epoch 19/30\n",
      "118/118 - 0s - loss: 0.4819 - accuracy: 0.8760 - 166ms/epoch - 1ms/step\n",
      "Epoch 20/30\n",
      "118/118 - 0s - loss: 0.4750 - accuracy: 0.8770 - 159ms/epoch - 1ms/step\n",
      "Epoch 21/30\n",
      "118/118 - 0s - loss: 0.4686 - accuracy: 0.8782 - 169ms/epoch - 1ms/step\n",
      "Epoch 22/30\n",
      "118/118 - 0s - loss: 0.4627 - accuracy: 0.8796 - 166ms/epoch - 1ms/step\n",
      "Epoch 23/30\n",
      "118/118 - 0s - loss: 0.4573 - accuracy: 0.8802 - 162ms/epoch - 1ms/step\n",
      "Epoch 24/30\n",
      "118/118 - 0s - loss: 0.4523 - accuracy: 0.8810 - 168ms/epoch - 1ms/step\n",
      "Epoch 25/30\n",
      "118/118 - 0s - loss: 0.4475 - accuracy: 0.8819 - 166ms/epoch - 1ms/step\n",
      "Epoch 26/30\n",
      "118/118 - 0s - loss: 0.4431 - accuracy: 0.8831 - 159ms/epoch - 1ms/step\n",
      "Epoch 27/30\n",
      "118/118 - 0s - loss: 0.4390 - accuracy: 0.8836 - 168ms/epoch - 1ms/step\n",
      "Epoch 28/30\n",
      "118/118 - 0s - loss: 0.4351 - accuracy: 0.8845 - 167ms/epoch - 1ms/step\n",
      "Epoch 29/30\n",
      "118/118 - 0s - loss: 0.4314 - accuracy: 0.8852 - 164ms/epoch - 1ms/step\n",
      "Epoch 30/30\n",
      "118/118 - 0s - loss: 0.4279 - accuracy: 0.8860 - 162ms/epoch - 1ms/step\n",
      "CPU times: user 11.2 s, sys: 2.05 s, total: 13.3 s\n",
      "Wall time: 5.23 s\n"
     ]
    }
   ],
   "source": [
    "%%time\n",
    "# This took about a third of a second per epoch on my laptop\n",
    "batch_size = 512\n",
    "epochs = 30\n",
    "history = linear_model.fit(x_train, y_train, batch_size=batch_size, epochs=epochs, verbose=2)"
   ]
  },
  {
   "cell_type": "code",
   "execution_count": 6,
   "metadata": {},
   "outputs": [
    {
     "name": "stdout",
     "output_type": "stream",
     "text": [
      "Model: \"linear_classifier\"\n",
      "_________________________________________________________________\n",
      " Layer (type)                Output Shape              Param #   \n",
      "=================================================================\n",
      " dense (Dense)               multiple                  7850      \n",
      "                                                                 \n",
      "=================================================================\n",
      "Total params: 7,850\n",
      "Trainable params: 7,850\n",
      "Non-trainable params: 0\n",
      "_________________________________________________________________\n",
      "None\n"
     ]
    }
   ],
   "source": [
    "print(linear_model.summary())"
   ]
  },
  {
   "cell_type": "markdown",
   "metadata": {},
   "source": [
    "The summary shows that there are 7850 parameters in our model, as the weight matrix is of size 784x10, plus there's a bias vector of 10x1."
   ]
  },
  {
   "cell_type": "markdown",
   "metadata": {},
   "source": [
    "Let's now see how the training progressed. \n",
    "\n",
    "* *Loss* is a function of the difference of the network output and the target values.  We are minimizing the loss function during training so it should decrease over time.\n",
    "* *Accuracy* is the classification accuracy for the training data (100*accuracy is the percentage labeled correctly), so it should increase over time\n",
    "\n",
    "Note that for either measure, we cannot fully trust the progress, as the model may have overfitted and just memorized the training data."
   ]
  },
  {
   "cell_type": "code",
   "execution_count": 7,
   "metadata": {},
   "outputs": [
    {
     "data": {
      "image/png": "[encoded data removed]",
      "text/plain": [
       "<Figure size 360x216 with 1 Axes>"
      ]
     },
     "metadata": {
      "needs_background": "light"
     },
     "output_type": "display_data"
    },
    {
     "data": {
      "image/png": "[encoded data removed]",
      "text/plain": [
       "<Figure size 360x216 with 1 Axes>"
      ]
     },
     "metadata": {
      "needs_background": "light"
     },
     "output_type": "display_data"
    }
   ],
   "source": [
    "plt.figure(figsize=(5,3))\n",
    "plt.plot(history.epoch,history.history['loss'])\n",
    "plt.title('loss')\n",
    "\n",
    "plt.figure(figsize=(5,3))\n",
    "plt.plot(history.epoch,history.history['accuracy'])\n",
    "plt.title('accuracy');"
   ]
  },
  {
   "cell_type": "markdown",
   "metadata": {},
   "source": [
    "### Inference\n",
    "\n",
    "For a better measure of the quality of the model, let's see the model accuracy for the test data. "
   ]
  },
  {
   "cell_type": "code",
   "execution_count": 8,
   "metadata": {},
   "outputs": [
    {
     "name": "stdout",
     "output_type": "stream",
     "text": [
      "10000/1 - 1s - loss: 0.3436 - accuracy: 0.8947\n",
      "accuracy: 89.47%\n"
     ]
    }
   ],
   "source": [
    "linscores = linear_model.evaluate(x_test, y_test, verbose=2)\n",
    "print(\"%s: %.2f%%\" % (linear_model.metrics_names[1], linscores[1]*100))"
   ]
  },
  {
   "cell_type": "markdown",
   "metadata": {},
   "source": [
    "We can now take a closer look on the results.\n",
    "\n",
    "Let's define a helper function to show the failure cases of our classifier. "
   ]
  },
  {
   "cell_type": "code",
   "execution_count": 9,
   "metadata": {
    "jupyter": {
     "outputs_hidden": true
    }
   },
   "outputs": [],
   "source": [
    "def show_failures(predictions, trueclass=None, predictedclass=None, maxtoshow=10):\n",
    "    rounded = numpy.argmax(predictions, axis=1)\n",
    "    errors = rounded!=y_test\n",
    "    print('Showing max', maxtoshow, 'first failures. '\n",
    "          'The predicted class is shown first and the correct class in parenthesis.')\n",
    "    ii = 0\n",
    "    plt.figure(figsize=(maxtoshow, 1))\n",
    "    for i in range(x_test.shape[0]):\n",
    "        if ii>=maxtoshow:\n",
    "            break\n",
    "        if errors[i]:\n",
    "            if trueclass is not None and y_test[i] != trueclass:\n",
    "                continue\n",
    "            if predictedclass is not None and rounded[i] != predictedclass:\n",
    "                continue\n",
    "            plt.subplot(1, maxtoshow, ii+1)\n",
    "            plt.axis('off')\n",
    "            plt.imshow(x_test[i,:,:], cmap=\"gray\")\n",
    "            plt.title(\"%d (%d)\" % (rounded[i], y_test[i]))\n",
    "            ii = ii + 1"
   ]
  },
  {
   "cell_type": "markdown",
   "metadata": {},
   "source": [
    "Here are the first 10 test digits the linear model classified to a wrong class:"
   ]
  },
  {
   "cell_type": "code",
   "execution_count": 10,
   "metadata": {},
   "outputs": [
    {
     "name": "stdout",
     "output_type": "stream",
     "text": [
      "Showing max 10 first failures. The predicted class is shown first and the correct class in parenthesis.\n"
     ]
    },
    {
     "data": {
      "image/png": "[encoded data removed]",
      "text/plain": [
       "<Figure size 720x72 with 10 Axes>"
      ]
     },
     "metadata": {
      "needs_background": "light"
     },
     "output_type": "display_data"
    }
   ],
   "source": [
    "linpredictions = linear_model.predict(x_test)\n",
    "\n",
    "show_failures(linpredictions)"
   ]
  },
  {
   "cell_type": "markdown",
   "metadata": {},
   "source": [
    "## Multi-layer perceptron (MLP) network\n",
    "\n",
    "### Initialization\n",
    "\n",
    "Let's now create a more complex MLP model that has multiple layers, non-linear activation functions, and dropout layers. \n",
    "\n",
    "`Dropout()` randomly sets a fraction of inputs to zero during training, which is one approach to regularization and can sometimes help to prevent overfitting. \n",
    "\n",
    "There are two options below, a simple and a bit more complex model.  Select either one.\n",
    "\n",
    "The output of the last layer needs to be a softmaxed 10-dimensional vector to match the groundtruth (`y_train`). "
   ]
  },
  {
   "cell_type": "code",
   "execution_count": 11,
   "metadata": {},
   "outputs": [],
   "source": [
    "class NonlinearClassifier(tf.keras.models.Model):\n",
    "\n",
    "    def __init__(self, activation=tf.nn.tanh):\n",
    "        tf.keras.models.Model.__init__(self)\n",
    "\n",
    "        self.layer_1 = tf.keras.layers.Dense(20, activation='relu')\n",
    "        \n",
    "        # A bit more complex model: (need to uncomment in call fn as well)\n",
    "        #self.layer_2 = tf.keras.layers.Dense(50, activation='relu')\n",
    "        #self.drop_3 = tf.keras.layers.Dropout(0.2)\n",
    "        #self.layer_4 = tf.keras.layers.Dense(50, activation='relu')\n",
    "        #self.drop_5 = tf.keras.layers.Dropout(0.2)\n",
    "        \n",
    "        # The last layer needs to be like this:\n",
    "        self.layer_out = tf.keras.layers.Dense(10, activation='softmax')\n",
    "\n",
    "\n",
    "    def call(self, inputs):\n",
    "\n",
    "        x = tf.keras.layers.Flatten()(inputs)\n",
    "        x = self.layer_1(x)\n",
    "        \n",
    "        # The more complex version:\n",
    "        #x = self.layer_2(x)\n",
    "        #x = self.drop_3(x)\n",
    "        #x = self.layer_4(x)\n",
    "        #x = self.drop_5(x)\n",
    "        \n",
    "        x = self.layer_out(x)\n",
    "\n",
    "        return x"
   ]
  },
  {
   "cell_type": "markdown",
   "metadata": {},
   "source": [
    "Finally, we again `compile()` the model, this time using [*RMSProp*](https://keras.io/optimizers/#rmsprop) as the optimizer."
   ]
  },
  {
   "cell_type": "code",
   "execution_count": 12,
   "metadata": {},
   "outputs": [],
   "source": [
    "nonlinear_model = NonlinearClassifier()\n",
    "\n",
    "nonlinear_model.compile(loss=\"sparse_categorical_crossentropy\", optimizer=\"rmsprop\", metrics=['accuracy'])"
   ]
  },
  {
   "cell_type": "markdown",
   "metadata": {},
   "source": [
    "### Learning"
   ]
  },
  {
   "cell_type": "code",
   "execution_count": 13,
   "metadata": {
    "scrolled": true
   },
   "outputs": [
    {
     "name": "stdout",
     "output_type": "stream",
     "text": [
      "Train on 60000 samples\n",
      "Epoch 1/30\n",
      "60000/60000 - 1s - loss: 0.8793 - accuracy: 0.7754\n",
      "Epoch 2/30\n",
      "60000/60000 - 1s - loss: 0.3590 - accuracy: 0.9018\n",
      "Epoch 3/30\n",
      "60000/60000 - 1s - loss: 0.2961 - accuracy: 0.9167\n",
      "Epoch 4/30\n",
      "60000/60000 - 1s - loss: 0.2678 - accuracy: 0.9245\n",
      "Epoch 5/30\n",
      "60000/60000 - 1s - loss: 0.2491 - accuracy: 0.9301\n",
      "Epoch 6/30\n",
      "60000/60000 - 1s - loss: 0.2348 - accuracy: 0.9342\n",
      "Epoch 7/30\n",
      "60000/60000 - 1s - loss: 0.2228 - accuracy: 0.9368\n",
      "Epoch 8/30\n",
      "60000/60000 - 1s - loss: 0.2135 - accuracy: 0.9403\n",
      "Epoch 9/30\n",
      "60000/60000 - 1s - loss: 0.2049 - accuracy: 0.9430\n",
      "Epoch 10/30\n",
      "60000/60000 - 1s - loss: 0.1973 - accuracy: 0.9453\n",
      "Epoch 11/30\n",
      "60000/60000 - 1s - loss: 0.1906 - accuracy: 0.9472\n",
      "Epoch 12/30\n",
      "60000/60000 - 1s - loss: 0.1846 - accuracy: 0.9486\n",
      "Epoch 13/30\n",
      "60000/60000 - 1s - loss: 0.1789 - accuracy: 0.9499\n",
      "Epoch 14/30\n",
      "60000/60000 - 1s - loss: 0.1740 - accuracy: 0.9515\n",
      "Epoch 15/30\n",
      "60000/60000 - 1s - loss: 0.1693 - accuracy: 0.9521\n",
      "Epoch 16/30\n",
      "60000/60000 - 1s - loss: 0.1644 - accuracy: 0.9541\n",
      "Epoch 17/30\n",
      "60000/60000 - 1s - loss: 0.1603 - accuracy: 0.9556\n",
      "Epoch 18/30\n",
      "60000/60000 - 1s - loss: 0.1566 - accuracy: 0.9560\n",
      "Epoch 19/30\n",
      "60000/60000 - 1s - loss: 0.1528 - accuracy: 0.9565\n",
      "Epoch 20/30\n",
      "60000/60000 - 1s - loss: 0.1487 - accuracy: 0.9583\n",
      "Epoch 21/30\n",
      "60000/60000 - 1s - loss: 0.1455 - accuracy: 0.9589\n",
      "Epoch 22/30\n",
      "60000/60000 - 1s - loss: 0.1424 - accuracy: 0.9595\n",
      "Epoch 23/30\n",
      "60000/60000 - 1s - loss: 0.1397 - accuracy: 0.9602\n",
      "Epoch 24/30\n",
      "60000/60000 - 1s - loss: 0.1369 - accuracy: 0.9611\n",
      "Epoch 25/30\n",
      "60000/60000 - 1s - loss: 0.1343 - accuracy: 0.9614\n",
      "Epoch 26/30\n",
      "60000/60000 - 1s - loss: 0.1322 - accuracy: 0.9620\n",
      "Epoch 27/30\n",
      "60000/60000 - 1s - loss: 0.1298 - accuracy: 0.9623\n",
      "Epoch 28/30\n",
      "60000/60000 - 1s - loss: 0.1281 - accuracy: 0.9633\n",
      "Epoch 29/30\n",
      "60000/60000 - 1s - loss: 0.1258 - accuracy: 0.9634\n",
      "Epoch 30/30\n",
      "60000/60000 - 1s - loss: 0.1243 - accuracy: 0.9639\n",
      "CPU times: user 50.3 s, sys: 1min 56s, total: 2min 46s\n",
      "Wall time: 21.8 s\n"
     ]
    }
   ],
   "source": [
    "%%time\n",
    "# This took around half a second per epoch on my laptop for the simpler version, \n",
    "# and around 1 second per epoch for the more complex one.\n",
    "batch_size = 512\n",
    "epochs = 30\n",
    "history = nonlinear_model.fit(x_train, y_train, batch_size=batch_size, epochs=epochs, verbose=2)"
   ]
  },
  {
   "cell_type": "code",
   "execution_count": 14,
   "metadata": {},
   "outputs": [
    {
     "data": {
      "image/png": "[encoded data removed]",
      "text/plain": [
       "<Figure size 360x216 with 1 Axes>"
      ]
     },
     "metadata": {
      "needs_background": "light"
     },
     "output_type": "display_data"
    },
    {
     "data": {
      "image/png": "[encoded data removed]",
      "text/plain": [
       "<Figure size 360x216 with 1 Axes>"
      ]
     },
     "metadata": {
      "needs_background": "light"
     },
     "output_type": "display_data"
    }
   ],
   "source": [
    "plt.figure(figsize=(5,3))\n",
    "plt.plot(history.epoch,history.history['loss'])\n",
    "plt.title('loss')\n",
    "\n",
    "plt.figure(figsize=(5,3))\n",
    "plt.plot(history.epoch,history.history['accuracy'])\n",
    "plt.title('accuracy');"
   ]
  },
  {
   "cell_type": "markdown",
   "metadata": {},
   "source": [
    "### Inference\n",
    "\n",
    "Accuracy for test data.  The model should be better than the linear model. "
   ]
  },
  {
   "cell_type": "code",
   "execution_count": 15,
   "metadata": {},
   "outputs": [
    {
     "name": "stdout",
     "output_type": "stream",
     "text": [
      "10000/1 - 1s - loss: 0.0831 - accuracy: 0.9563\n",
      "accuracy: 95.63%\n",
      "CPU times: user 1.51 s, sys: 2.91 s, total: 4.42 s\n",
      "Wall time: 857 ms\n"
     ]
    }
   ],
   "source": [
    "%%time\n",
    "scores = nonlinear_model.evaluate(x_test, y_test, verbose=2)\n",
    "print(\"%s: %.2f%%\" % (nonlinear_model.metrics_names[1], scores[1]*100))"
   ]
  },
  {
   "cell_type": "markdown",
   "metadata": {},
   "source": [
    "We can again take a closer look on the results, using the `show_failures()` function defined earlier.\n",
    "\n",
    "Here are the first 10 test digits the MLP classified to a wrong class:"
   ]
  },
  {
   "cell_type": "code",
   "execution_count": 16,
   "metadata": {},
   "outputs": [
    {
     "name": "stdout",
     "output_type": "stream",
     "text": [
      "Showing max 10 first failures. The predicted class is shown first and the correct class in parenthesis.\n"
     ]
    },
    {
     "data": {
      "image/png": "[encoded data removed]",
      "text/plain": [
       "<Figure size 720x72 with 10 Axes>"
      ]
     },
     "metadata": {
      "needs_background": "light"
     },
     "output_type": "display_data"
    }
   ],
   "source": [
    "predictions = nonlinear_model.predict(x_test)\n",
    "\n",
    "show_failures(predictions)"
   ]
  },
  {
   "cell_type": "markdown",
   "metadata": {},
   "source": [
    "We can use `show_failures()` to inspect failures in more detail. For example, here are failures in which the true class was \"6\":"
   ]
  },
  {
   "cell_type": "code",
   "execution_count": 17,
   "metadata": {},
   "outputs": [
    {
     "name": "stdout",
     "output_type": "stream",
     "text": [
      "Showing max 10 first failures. The predicted class is shown first and the correct class in parenthesis.\n"
     ]
    },
    {
     "data": {
      "image/png": "[encoded data removed]",
      "text/plain": [
       "<Figure size 720x72 with 10 Axes>"
      ]
     },
     "metadata": {
      "needs_background": "light"
     },
     "output_type": "display_data"
    }
   ],
   "source": [
    "show_failures(predictions, trueclass=6)"
   ]
  },
  {
   "cell_type": "markdown",
   "metadata": {},
   "source": [
    "We can also compute the confusion matrix to see which digits get mixed the most, and look at classification accuracies separately for each class:"
   ]
  },
  {
   "cell_type": "code",
   "execution_count": 18,
   "metadata": {},
   "outputs": [
    {
     "name": "stdout",
     "output_type": "stream",
     "text": [
      "Confusion matrix (rows: true classes; columns: predicted classes):\n",
      "\n",
      "[[ 963    0    2    3    0    2    8    1    1    0]\n",
      " [   0 1121    2    4    0    2    4    2    0    0]\n",
      " [   6    1  989   12    4    0    5    7    8    0]\n",
      " [   2    0    5  978    1    9    0    7    5    3]\n",
      " [   0    0    5    0  937    1   11    3    2   23]\n",
      " [   9    2    0   27    2  830    9    2    6    5]\n",
      " [   5    3    3    0    2    8  934    0    3    0]\n",
      " [   1    9    8   17    3    0    0  982    0    8]\n",
      " [   8    4    4   29    5   16   11    6  884    7]\n",
      " [   8    8    1   12   16    6    1   11    1  945]]\n",
      "\n",
      "Classification accuracy for each class:\n",
      "\n",
      "0: 0.9827\n",
      "1: 0.9877\n",
      "2: 0.9583\n",
      "3: 0.9683\n",
      "4: 0.9542\n",
      "5: 0.9305\n",
      "6: 0.9749\n",
      "7: 0.9553\n",
      "8: 0.9076\n",
      "9: 0.9366\n"
     ]
    }
   ],
   "source": [
    "from sklearn.metrics import confusion_matrix\n",
    "\n",
    "print('Confusion matrix (rows: true classes; columns: predicted classes):'); print()\n",
    "cm=confusion_matrix(y_test, numpy.argmax(predictions, axis=1), labels=list(range(10)))\n",
    "print(cm); print()\n",
    "\n",
    "print('Classification accuracy for each class:'); print()\n",
    "for i,j in enumerate(cm.diagonal()/cm.sum(axis=1)): print(\"%d: %.4f\" % (i,j))"
   ]
  },
  {
   "cell_type": "markdown",
   "metadata": {},
   "source": [
    "In the next notebook, we'll introduce convolutional layers, which are commonly used for images."
   ]
  }
 ],
 "metadata": {
  "kernelspec": {
   "display_name": "Python 3",
   "language": "python",
   "name": "python3"
  },
  "language_info": {
   "codemirror_mode": {
    "name": "ipython",
    "version": 3
   },
   "file_extension": ".py",
   "mimetype": "text/x-python",
   "name": "python",
   "nbconvert_exporter": "python",
   "pygments_lexer": "ipython3",
   "version": "3.7.3"
  }
 },
 "nbformat": 4,
 "nbformat_minor": 4
}
